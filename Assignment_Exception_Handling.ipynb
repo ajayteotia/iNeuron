{
 "cells": [
  {
   "cell_type": "markdown",
   "metadata": {},
   "source": [
    "#  Function to compute 5/0 using try/except to catch the exception"
   ]
  },
  {
   "cell_type": "code",
   "execution_count": 20,
   "metadata": {},
   "outputs": [
    {
     "name": "stdout",
     "output_type": "stream",
     "text": [
      "Enter 1st number:5\n",
      "Enter 2nd number:0\n",
      "Division by zero, Kindly try again!!!\n"
     ]
    }
   ],
   "source": [
    "try:\n",
    "    a = int(input(\"Enter 1st number:\"))\n",
    "    b = int(input (\"Enter 2nd number:\"))\n",
    "    \n",
    "    def div(a,b):\n",
    "        division = a/b\n",
    "        print(\"Division of\",a,\"and\",b,\"is:\",division)\n",
    "    div(a,b)\n",
    "    \n",
    "except ZeroDivisionError:\n",
    "    print(\"Division by zero, Kindly try again!!!\")"
   ]
  },
  {
   "cell_type": "markdown",
   "metadata": {},
   "source": [
    "# Python program to generate all sentences where, Subject,Verb and Object should be declared"
   ]
  },
  {
   "cell_type": "code",
   "execution_count": 51,
   "metadata": {},
   "outputs": [
    {
     "name": "stdout",
     "output_type": "stream",
     "text": [
      "Americans plays Baseball.\n",
      "Americans plays Cricket.\n",
      "Americans watch Baseball.\n",
      "Americans watch Cricket.\n",
      "Indians plays Baseball.\n",
      "Indians plays Cricket.\n",
      "Indians watch Baseball.\n",
      "Indians watch Cricket.\n"
     ]
    }
   ],
   "source": [
    "class Sentence:\n",
    "    def __init__(self,sub1,sub2):\n",
    "        self.sub1 = sub1\n",
    "        self.sub2 = sub2\n",
    "    \n",
    "    def verb(self,ver1,ver2):\n",
    "        self.ver1 = ver1\n",
    "        self.ver2 = ver2\n",
    "        \n",
    "    def obj(self,obj1,obj2):\n",
    "        self.obj1 = obj1\n",
    "        self.obj2 = obj2\n",
    "        \n",
    "s = Sentence(\"Americans\",\"Indians\")\n",
    "s.verb(\"plays\",\"watch\")\n",
    "s.obj(\"Baseball\",\"Cricket\")\n",
    "\n",
    "print (\"%s %s %s.\" %(s.sub1,s.ver1,s.obj1))\n",
    "print (\"%s %s %s.\" %(s.sub1,s.ver1,s.obj2))\n",
    "print (\"%s %s %s.\" %(s.sub1,s.ver2,s.obj1))\n",
    "print (\"%s %s %s.\" %(s.sub1,s.ver2,s.obj2))\n",
    "print (\"%s %s %s.\" %(s.sub2,s.ver1,s.obj1))\n",
    "print (\"%s %s %s.\" %(s.sub2,s.ver1,s.obj2))\n",
    "print (\"%s %s %s.\" %(s.sub2,s.ver2,s.obj1))\n",
    "print (\"%s %s %s.\" %(s.sub2,s.ver2,s.obj2))"
   ]
  }
 ],
 "metadata": {
  "kernelspec": {
   "display_name": "Python 3",
   "language": "python",
   "name": "python3"
  },
  "language_info": {
   "codemirror_mode": {
    "name": "ipython",
    "version": 3
   },
   "file_extension": ".py",
   "mimetype": "text/x-python",
   "name": "python",
   "nbconvert_exporter": "python",
   "pygments_lexer": "ipython3",
   "version": "3.7.4"
  },
  "toc": {
   "base_numbering": 1,
   "nav_menu": {},
   "number_sections": true,
   "sideBar": true,
   "skip_h1_title": false,
   "title_cell": "Table of Contents",
   "title_sidebar": "Contents",
   "toc_cell": false,
   "toc_position": {},
   "toc_section_display": true,
   "toc_window_display": false
  }
 },
 "nbformat": 4,
 "nbformat_minor": 2
}
