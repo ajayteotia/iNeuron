{
 "cells": [
  {
   "cell_type": "markdown",
   "metadata": {},
   "source": [
    "# Python Program to find the area of the triangle using the formula:\n",
    "\n"
   ]
  },
  {
   "cell_type": "code",
   "execution_count": 25,
   "metadata": {},
   "outputs": [
    {
     "name": "stdout",
     "output_type": "stream",
     "text": [
      "Enter the first side: 4\n",
      "Enter the second side: 5\n",
      "Enter the third side: 5\n",
      "Total area of the trinagle is : 9.16515138991168\n"
     ]
    }
   ],
   "source": [
    "# area = (s*(s-a)*(s-b)*(s-c)) ** 0.5\n",
    "\n",
    "side1 = int(input(\"Enter the first side: \"))\n",
    "side2 = int(input(\"Enter the second side: \"))\n",
    "side3 = int(input(\"Enter the third side: \"))\n",
    "\n",
    "class Triangle:\n",
    "    def __init__(self,side1,side2,side3):\n",
    "        self.side1 = side1\n",
    "        self.side2 = side2\n",
    "        self.side3 = side3\n",
    "        \n",
    "class Area(Triangle):\n",
    "    def __init__(self,side1,side2,side3):\n",
    "        super().__init__(side1,side2,side3)\n",
    "\n",
    "    def Area_Total(self):\n",
    "        s = (side1 + side2 + side3) / 2\n",
    "        return (s*(s-side1)*(s-side2)*(s-side3)) ** 0.5        \n",
    "\n",
    "x = Area(side1,side2,side3)\n",
    "print(\"Total area of the trinagle is : {}\".format(x.Area_Total()))"
   ]
  },
  {
   "cell_type": "markdown",
   "metadata": {},
   "source": [
    "#  Write a function filter_long_words() that takes a list of words and an integer n and returns the list of words that are longer than n"
   ]
  },
  {
   "cell_type": "code",
   "execution_count": 2,
   "metadata": {},
   "outputs": [
    {
     "name": "stdout",
     "output_type": "stream",
     "text": [
      "Enter the number: 3\n",
      "Enter the list of words: one two three four five six seven eight nine ten\n"
     ]
    },
    {
     "data": {
      "text/plain": [
       "['three', 'four', 'five', 'seven', 'eight', 'nine']"
      ]
     },
     "execution_count": 2,
     "metadata": {},
     "output_type": "execute_result"
    }
   ],
   "source": [
    "n = int(input(\"Enter the number: \"))\n",
    "word = input(\"Enter the list of words: \")\n",
    "\n",
    "def filter_long_words(n,word):  \n",
    "    a = []  \n",
    "    list1 = word.split(\" \")  \n",
    "    for x in list1:  \n",
    "        if len(x) > n: \n",
    "            a.append(x)  \n",
    "    return a \n",
    "\n",
    "filter_long_words(n,word)"
   ]
  },
  {
   "cell_type": "markdown",
   "metadata": {},
   "source": [
    "# Python program that maps list of words into a list of integers representing the lengths of the corresponding words."
   ]
  },
  {
   "cell_type": "code",
   "execution_count": 19,
   "metadata": {},
   "outputs": [
    {
     "name": "stdout",
     "output_type": "stream",
     "text": [
      "[4, 5, 7]\n"
     ]
    }
   ],
   "source": [
    "list1 = [\"ajay\",\"kumar\",\"ineuron\"]\n",
    "\n",
    "def fun(list1):\n",
    "    return(list(map(lambda x: len(x),list1)))\n",
    "\n",
    "print(str(fun(list1)))"
   ]
  },
  {
   "cell_type": "markdown",
   "metadata": {},
   "source": [
    "#  Python function which takes a character and returns True if it is a vowel, False otherwise"
   ]
  },
  {
   "cell_type": "code",
   "execution_count": 7,
   "metadata": {},
   "outputs": [
    {
     "name": "stdout",
     "output_type": "stream",
     "text": [
      "Enter your character: z\n"
     ]
    },
    {
     "data": {
      "text/plain": [
       "False"
      ]
     },
     "execution_count": 7,
     "metadata": {},
     "output_type": "execute_result"
    }
   ],
   "source": [
    "n = input(\"Enter your character: \")\n",
    "\n",
    "def ch(n):\n",
    "    if n in [\"A\",\"a\",\"E\",\"e\",\"I\",\"i\",\"O\",\"o\",\"U\",\"u\"]:\n",
    "        return True\n",
    "    else:\n",
    "        return False\n",
    "\n",
    "ch(n)    "
   ]
  }
 ],
 "metadata": {
  "kernelspec": {
   "display_name": "Python 3",
   "language": "python",
   "name": "python3"
  },
  "language_info": {
   "codemirror_mode": {
    "name": "ipython",
    "version": 3
   },
   "file_extension": ".py",
   "mimetype": "text/x-python",
   "name": "python",
   "nbconvert_exporter": "python",
   "pygments_lexer": "ipython3",
   "version": "3.7.4"
  },
  "toc": {
   "base_numbering": 1,
   "nav_menu": {},
   "number_sections": true,
   "sideBar": true,
   "skip_h1_title": false,
   "title_cell": "Table of Contents",
   "title_sidebar": "Contents",
   "toc_cell": false,
   "toc_position": {},
   "toc_section_display": true,
   "toc_window_display": false
  }
 },
 "nbformat": 4,
 "nbformat_minor": 2
}
